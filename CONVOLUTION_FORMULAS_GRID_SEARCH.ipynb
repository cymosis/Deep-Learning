{
  "nbformat": 4,
  "nbformat_minor": 0,
  "metadata": {
    "colab": {
      "provenance": []
    },
    "kernelspec": {
      "name": "python3",
      "display_name": "Python 3"
    },
    "language_info": {
      "name": "python"
    }
  },
  "cells": [
    {
      "cell_type": "markdown",
      "source": [
        "**Deconvolution Formula**"
      ],
      "metadata": {
        "id": "x5EqiA0haZVL"
      }
    },
    {
      "cell_type": "code",
      "source": [
        "def search_conv_transpose2d_params(input_size, output_size, max_k=100, max_s=10, max_p=10, max_op=1):\n",
        "    valid = []\n",
        "    for k in range(1, max_k + 1):\n",
        "        for s in range(1, max_s + 1):\n",
        "            for p in range(0, max_p + 1):\n",
        "                for op in range(0, max_op + 1):\n",
        "                    out = (input_size - 1) * s - 2 * p + k + op\n",
        "                    if out == output_size:\n",
        "                        valid.append({\n",
        "                            'kernel': k,\n",
        "                            'stride': s,\n",
        "                            'padding': p,\n",
        "                            'output_padding': op\n",
        "                        })\n",
        "    return valid\n",
        "search_conv_transpose2d_params(92,256)"
      ],
      "metadata": {
        "id": "CumZoIBhaX_C"
      },
      "execution_count": null,
      "outputs": []
    },
    {
      "cell_type": "markdown",
      "source": [
        "**Convolution Formula**"
      ],
      "metadata": {
        "id": "OReyw7z8agdB"
      }
    },
    {
      "cell_type": "code",
      "source": [
        "def search_conv2d_params(input_size, output_size, max_k=100, max_s=10, max_p=10):\n",
        "    valid = []\n",
        "    for k in range(1, max_k + 1):\n",
        "        for s in range(1, max_s + 1):\n",
        "            for p in range(0, max_p + 1):\n",
        "                out = ((input_size + 2 * p - k) // s) + 1\n",
        "                if out == output_size:\n",
        "                    valid.append({'kernel': k, 'stride': s, 'padding': p})\n",
        "    return valid"
      ],
      "metadata": {
        "id": "9uhvdZ7FafFy"
      },
      "execution_count": null,
      "outputs": []
    }
  ]
}